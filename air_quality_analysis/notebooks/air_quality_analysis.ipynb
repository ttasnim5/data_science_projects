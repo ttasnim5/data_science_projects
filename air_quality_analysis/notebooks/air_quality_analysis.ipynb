{
 "cells": [
  {
   "cell_type": "code",
   "execution_count": 1,
   "metadata": {},
   "outputs": [],
   "source": [
    "import os\n",
    "os.chdir('..') # set notebook's working directory one up to the project root\n",
    "# necessary libraries\n",
    "import pandas as pd\n",
    "import matplotlib.pyplot as plt\n",
    "import seaborn as sns"
   ]
  },
  {
   "cell_type": "code",
   "execution_count": null,
   "metadata": {},
   "outputs": [],
   "source": [
    "# functions from scripts\n",
    "from scripts.fetch_openAQ_data import fetch_openaq_data\n",
    "from scripts.process_world_bank_data import process_world_bank_data\n",
    "from scripts.analyze_data import combine_datasets"
   ]
  },
  {
   "cell_type": "code",
   "execution_count": null,
   "metadata": {},
   "outputs": [],
   "source": [
    "# fetch and process data\n",
    "fetch_openaq_data()\n",
    "process_world_bank_data()\n",
    "# combine datasets\n",
    "combined_data = combine_datasets()\n",
    "combined_data.columns\n",
    "combined_data[\"Indicator Name\"]"
   ]
  },
  {
   "cell_type": "code",
   "execution_count": 4,
   "metadata": {},
   "outputs": [],
   "source": [
    "# drop columns from dataframe that are irrelevant/unhelpful\n",
    "combined_data.drop(['Indicator Code', 'flagInfo.hasFlags', 'parameter.id', \n",
    "                    'period.datetimeFrom.utc', 'period.datetimeFrom.local', 'period.datetimeTo.utc',\n",
    "                    'period.datetimeTo.local', 'summary.min', 'summary.q02', 'summary.q25', 'summary.median',\n",
    "                    'summary.q75', 'summary.q98', 'summary.max', 'summary.avg', 'summary.sd', \n",
    "                    'coverage.expectedCount', 'coverage.expectedInterval', 'coverage.observedCount', \n",
    "                    'coverage.observedInterval', 'coverage.percentComplete', 'coverage.percentCoverage', \n",
    "                    'coverage.datetimeFrom.utc', 'coverage.datetimeFrom.local', 'coverage.datetimeTo.utc', \n",
    "                    'coverage.datetimeTo.local', ], axis=1, inplace=True)"
   ]
  },
  {
   "cell_type": "code",
   "execution_count": null,
   "metadata": {},
   "outputs": [],
   "source": [
    "combined_data.head()"
   ]
  },
  {
   "cell_type": "code",
   "execution_count": null,
   "metadata": {},
   "outputs": [],
   "source": [
    "# visualize trends\n",
    "sns.barplot(data=combined_data, x='Year', y='PM10')\n",
    "plt.title('Air Quality vs Population Over Time')\n",
    "plt.show()\n",
    "\n",
    "sns.lineplot(data=combined_data, x='Year', y='PM10')\n",
    "plt.title('Air Quality vs Population Over Time')\n",
    "plt.show()"
   ]
  },
  {
   "cell_type": "code",
   "execution_count": null,
   "metadata": {},
   "outputs": [],
   "source": [
    "# filter rows for PM2.5 and PM10 indicators // SPOILER these graphs were useless\n",
    "pm_data = combined_data[combined_data['Indicator Name'].str.contains('PM2.5|PM10', na=False)]\n",
    "\n",
    "# Line plot to compare trends\n",
    "sns.lineplot(data=pm_data, x='Year', y='WB Value', hue='Indicator Name')\n",
    "plt.title('PM2.5 and PM10 Trends Over Time')\n",
    "plt.ylabel('Value')\n",
    "plt.show()"
   ]
  },
  {
   "cell_type": "code",
   "execution_count": null,
   "metadata": {},
   "outputs": [],
   "source": [
    "# spoiler this graph also shows basically nothing but at least we have it\n",
    "# select numeric columns for correlation\n",
    "numeric_data = combined_data[['WB Value', 'PM10']].dropna()\n",
    "\n",
    "# calculate and plot correlation heatmap\n",
    "corr = numeric_data.corr()\n",
    "sns.heatmap(corr, annot=True, cmap='coolwarm')\n",
    "plt.title('Correlation Between Indicators')\n",
    "plt.show()"
   ]
  },
  {
   "cell_type": "code",
   "execution_count": null,
   "metadata": {},
   "outputs": [],
   "source": [
    "# pivot the data for heatmap\n",
    "pivot_data = combined_data.pivot(index='Year', columns='Indicator Name', values='WB Value').fillna(0)\n",
    "\n",
    "# heatmap for indicator trends over time\n",
    "sns.heatmap(pivot_data, cmap='YlGnBu', cbar_kws={'label': 'Value'})\n",
    "plt.title('Indicator Trends Over Time')\n",
    "plt.xlabel('Indicator Name')\n",
    "plt.ylabel('Year')\n",
    "plt.show()\n",
    "# not entirely sure how to interpet this one yet, darker colors indicate more varying trends i believe"
   ]
  },
  {
   "cell_type": "code",
   "execution_count": null,
   "metadata": {},
   "outputs": [],
   "source": [
    "# calculate PM2.5/PM10 ratio\n",
    "combined_data['PM2.5_to_PM10'] = combined_data['WB Value'] / combined_data['PM10']\n",
    "\n",
    "# line plot for ratio over time\n",
    "sns.lineplot(data=combined_data, x='Year', y='PM2.5_to_PM10', hue='Country Name')\n",
    "plt.title('PM2.5 to PM10 Ratio Over Time')\n",
    "plt.ylabel('PM2.5/PM10')\n",
    "plt.show()\n",
    "# shows that pm10 generally < pm2.5, explore further later ?"
   ]
  },
  {
   "cell_type": "code",
   "execution_count": null,
   "metadata": {},
   "outputs": [],
   "source": [
    "# further: explore relationships between air quality indicators like PM10 or pm2.5 and socioeconomic factors (e.g., GDP, population)\n",
    "\n",
    "# possibly use group by for columns and calculate mean PM10 values\n",
    "# grouped_pm10 = combined_data.groupby('Indicator Name')['PM10'].mean().sort_values(ascending=False)\n",
    "# sns.barplot(x=grouped_pm10[:10].index, y=grouped_pm10[:10].values)\n",
    "# plt.xticks(rotation=45)\n",
    "# plt.title('Top 10 __ by PM10 Levels')\n",
    "# plt.ylabel('PM10 (µg/m³)')\n",
    "# plt.xlabel('__')\n",
    "# plt.show()"
   ]
  }
 ],
 "metadata": {
  "kernelspec": {
   "display_name": "base",
   "language": "python",
   "name": "python3"
  },
  "language_info": {
   "codemirror_mode": {
    "name": "ipython",
    "version": 3
   },
   "file_extension": ".py",
   "mimetype": "text/x-python",
   "name": "python",
   "nbconvert_exporter": "python",
   "pygments_lexer": "ipython3",
   "version": "3.9.13"
  }
 },
 "nbformat": 4,
 "nbformat_minor": 2
}
